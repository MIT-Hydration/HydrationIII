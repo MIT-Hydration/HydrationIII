{
 "cells": [
  {
   "cell_type": "code",
   "execution_count": 11,
   "id": "d0d68bf8",
   "metadata": {},
   "outputs": [],
   "source": [
    "# Reference: https://docs.google.com/drawings/d/1ksIhNAcVkpdvN-EO1gbgZGqj9pycxCwhhGKIBvVVC-o/edit\n",
    "\n",
    "import numpy as np\n",
    "\n",
    "z1 = np.arange(0, -0.7, -0.01) # meters\n",
    "N = len(z1)\n",
    "regolith_model = np.zeros(N) \n",
    "regolith_model[z1 > -0.1] = 0.001\n",
    "regolith_model[(z1 < -0.1) & (z1 > -0.2)] = 0.1\n",
    "\n",
    "class State:\n",
    "    def __init__(self):\n",
    "        self.z1 = 0.0\n",
    "        self.vz = 0.0\n",
    "\n",
    "# map state and regolith to WOB\n",
    "def system_model(state, regolith_model):\n",
    "    return -100\n",
    "\n",
    "\n",
    "class ControlSystem:\n",
    "    def __init__(self, Pv, Iv, Pz, Z1target, Vtarget, Vmax, WOBtarget, WOBmax):\n",
    "        self.Pv = Pv\n",
    "        self.Iv = Iv\n",
    "        self.Pz = Pz\n",
    "        self.Z1target = Z1target\n",
    "        self.Vtarget = Vtarget\n",
    "        self.Vmax = Vmax\n",
    "        self.WOBtarget = WOBtarget\n",
    "        self.WOBmax = WOBmax\n",
    "        \n",
    "    def control(z1, WOB):\n",
    "        "
   ]
  },
  {
   "cell_type": "code",
   "execution_count": 12,
   "id": "ca2e3903",
   "metadata": {},
   "outputs": [
    {
     "data": {
      "text/plain": [
       "array([0.001, 0.001, 0.001, 0.001, 0.001, 0.001, 0.001, 0.001, 0.001,\n",
       "       0.001, 0.   , 0.1  , 0.1  , 0.1  , 0.1  , 0.1  , 0.1  , 0.1  ,\n",
       "       0.1  , 0.1  , 0.   , 0.   , 0.   , 0.   , 0.   , 0.   , 0.   ,\n",
       "       0.   , 0.   , 0.   , 0.   , 0.   , 0.   , 0.   , 0.   , 0.   ,\n",
       "       0.   , 0.   , 0.   , 0.   , 0.   , 0.   , 0.   , 0.   , 0.   ,\n",
       "       0.   , 0.   , 0.   , 0.   , 0.   , 0.   , 0.   , 0.   , 0.   ,\n",
       "       0.   , 0.   , 0.   , 0.   , 0.   , 0.   , 0.   , 0.   , 0.   ,\n",
       "       0.   , 0.   , 0.   , 0.   , 0.   , 0.   , 0.   ])"
      ]
     },
     "execution_count": 12,
     "metadata": {},
     "output_type": "execute_result"
    }
   ],
   "source": [
    "regolith_model"
   ]
  },
  {
   "cell_type": "code",
   "execution_count": null,
   "id": "daf0307f",
   "metadata": {},
   "outputs": [],
   "source": []
  }
 ],
 "metadata": {
  "kernelspec": {
   "display_name": "Python 3",
   "language": "python",
   "name": "python3"
  },
  "language_info": {
   "codemirror_mode": {
    "name": "ipython",
    "version": 3
   },
   "file_extension": ".py",
   "mimetype": "text/x-python",
   "name": "python",
   "nbconvert_exporter": "python",
   "pygments_lexer": "ipython3",
   "version": "3.9.5"
  }
 },
 "nbformat": 4,
 "nbformat_minor": 5
}
